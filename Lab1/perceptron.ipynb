{
 "cells": [
  {
   "attachments": {},
   "cell_type": "markdown",
   "metadata": {},
   "source": [
    "###  Įterpiamos reikiamos bibliotekos:"
   ]
  },
  {
   "cell_type": "code",
   "execution_count": 418,
   "metadata": {},
   "outputs": [],
   "source": [
    "import numpy as np\n",
    "import random\n",
    "from typing import Callable"
   ]
  },
  {
   "attachments": {},
   "cell_type": "markdown",
   "metadata": {},
   "source": [
    "###  Dirbtinis neuronas\n",
    "\n",
    "Pagrindinė funkcija svoriams gauti - `get_weights(...)`.\n",
    "\n",
    "\n",
    "`weights` generuojami atsitiktinai iš duoto intervalo. Jei randamas toks svorių rinkinys,\n",
    "kur su visomis įvestimis prognozės atitinka norimas išvestis, programa ciklas nutraukiamas ir\n",
    "funkcija grąžina to rinkinio reikšmes."
   ]
  },
  {
   "cell_type": "code",
   "execution_count": 419,
   "metadata": {},
   "outputs": [],
   "source": [
    "class Perceptron():\n",
    "    def __init__(self, /, inputs: list[list[float]], targets: list[float]):\n",
    "        if len(inputs) != len(targets):\n",
    "            raise ValueError(\"Each input set should have a target.\")\n",
    "\n",
    "        self.inputs = inputs\n",
    "        self.targets = targets\n",
    "\n",
    "\n",
    "    def binary_step_function(weights: list[float], features: list[float]) -> int:\n",
    "        value = np.dot(weights, features)\n",
    "        return 1 if value >= 0 else 0\n",
    "    \n",
    "\n",
    "    def sigmoid_step_function(weights: list[float], features: list[float]) -> int:\n",
    "        value = 1 / (1 + np.exp(-1 * np.dot(weights, features)))\n",
    "        return 1 if value >= 0.5 else 0\n",
    "    \n",
    "\n",
    "    def _get_new_weights(self, interval: tuple[float, float]):\n",
    "        return [round(random.uniform(interval[0], interval[1]), 2)\n",
    "                 for _ in range(len(self.inputs[0]))]        \n",
    "        \n",
    "\n",
    "    def get_weights(self, \n",
    "            activation_function: Callable[[list[float], list[float]], int],\n",
    "            interval: tuple[float, float]) -> list[float]:\n",
    "        weights = [interval[0]] * len(self.inputs[0])\n",
    "        matched_predictions = 0\n",
    "\n",
    "        while (matched_predictions != len(self.targets)):\n",
    "            weights = self._get_new_weights(interval)\n",
    "            matched_predictions = 0\n",
    "            i = 0\n",
    "            \n",
    "            while (i < len(self.targets)):\n",
    "                features = self.inputs[i]\n",
    "\n",
    "                if activation_function(weights, features) == self.targets[i]:\n",
    "                    matched_predictions += 1\n",
    "                i += 1            \n",
    "        \n",
    "        return weights[:]"
   ]
  },
  {
   "cell_type": "code",
   "execution_count": 420,
   "metadata": {},
   "outputs": [
    {
     "name": "stdout",
     "output_type": "stream",
     "text": [
      "Weights using binary step:\n",
      "[-6.75, 6.6, -0.45]\n",
      "Weights_using_sigmoid:\n",
      "[-4.23, 4.92, -1.26]\n"
     ]
    }
   ],
   "source": [
    "targets = [0, 0, 1, 1]\n",
    "inputs = \\\n",
    "[\n",
    "    [1, -0.3, 0.6],\n",
    "    [1, 0.3, -0.6],\n",
    "    [1, 1.2, -1.2],\n",
    "    [1, 1.2, 1.2],\n",
    "]\n",
    "perceptron = Perceptron(inputs=inputs, targets=targets)\n",
    "\n",
    "weights_using_binary_step = perceptron.get_weights(Perceptron.binary_step_function, (-7, 7))\n",
    "weights_using_sigmoid = perceptron.get_weights(Perceptron.sigmoid_step_function, (-7, 7))\n",
    "print(f\"Weights using binary step:\\n{weights_using_binary_step}\\nWeights_using_sigmoid:\\n{weights_using_sigmoid}\")"
   ]
  }
 ],
 "metadata": {
  "kernelspec": {
   "display_name": "Python 3",
   "language": "python",
   "name": "python3"
  },
  "language_info": {
   "codemirror_mode": {
    "name": "ipython",
    "version": 3
   },
   "file_extension": ".py",
   "mimetype": "text/x-python",
   "name": "python",
   "nbconvert_exporter": "python",
   "pygments_lexer": "ipython3",
   "version": "3.10.8"
  },
  "orig_nbformat": 4,
  "vscode": {
   "interpreter": {
    "hash": "e7370f93d1d0cde622a1f8e1c04877d8463912d04d973331ad4851f04de6915a"
   }
  }
 },
 "nbformat": 4,
 "nbformat_minor": 2
}
