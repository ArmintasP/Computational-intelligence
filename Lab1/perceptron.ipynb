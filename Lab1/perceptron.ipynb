{
 "cells": [
  {
   "cell_type": "code",
   "execution_count": 1,
   "metadata": {},
   "outputs": [],
   "source": [
    "import numpy as np"
   ]
  },
  {
   "cell_type": "code",
   "execution_count": 4,
   "metadata": {},
   "outputs": [],
   "source": [
    "class Neuron:\n",
    "    def __init__(self, /, features: [float], targets: [float]):\n",
    "        self.features = features\n",
    "        self.targets = targets\n",
    "        \n",
    "    def binary_step_function(self, weights: [float], features: [float]) -> int:\n",
    "        value = np.sum(weights, features)\n",
    "        return 1 if value >= 0 else 0\n",
    "    \n",
    "    def sigmoid_step_function(self, weights: [float], features: [float]) -> int:\n",
    "        value = 1 / (1 + np.exp(-1 * np.dot(weights, features)))\n",
    "        return 1 if value >= 0.5 else 0\n",
    "    \n",
    "    def get_weights(self, activation_function, interval, step):\n",
    "        weights = [interval[0]] * len(self.features)\n",
    "        \n",
    "        \n",
    "        \n",
    "        "
   ]
  }
 ],
 "metadata": {
  "kernelspec": {
   "display_name": "Python 3",
   "language": "python",
   "name": "python3"
  },
  "language_info": {
   "codemirror_mode": {
    "name": "ipython",
    "version": 3
   },
   "file_extension": ".py",
   "mimetype": "text/x-python",
   "name": "python",
   "nbconvert_exporter": "python",
   "pygments_lexer": "ipython3",
   "version": "3.11.1"
  },
  "orig_nbformat": 4,
  "vscode": {
   "interpreter": {
    "hash": "e7370f93d1d0cde622a1f8e1c04877d8463912d04d973331ad4851f04de6915a"
   }
  }
 },
 "nbformat": 4,
 "nbformat_minor": 2
}
