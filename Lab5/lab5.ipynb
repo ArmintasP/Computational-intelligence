{
 "cells": [
  {
   "attachments": {},
   "cell_type": "markdown",
   "metadata": {},
   "source": [
    "### Bibliotekos ir random seed nustatymas"
   ]
  },
  {
   "cell_type": "code",
   "execution_count": 162,
   "metadata": {},
   "outputs": [],
   "source": [
    "import random\n",
    "import math\n",
    "import numpy as np\n",
    "import pandas\n",
    "random.seed(5)\n",
    "np.random.seed(5)"
   ]
  },
  {
   "attachments": {},
   "cell_type": "markdown",
   "metadata": {},
   "source": [
    "### SOM klasė\n",
    "Naudojama gauso funkcija, euklido atstumų funkcija, a(t, T) = 1 - (t / T)"
   ]
  },
  {
   "cell_type": "code",
   "execution_count": 163,
   "metadata": {},
   "outputs": [],
   "source": [
    "class SOM:\n",
    "    def __init__(self, map_size, input_dimensions) -> None:\n",
    "        self.map_size = map_size\n",
    "        self.map = [[[random.random() for _ in range(input_dimensions)] for _ in range(map_size[1])] for _ in range(map_size[0])]\n",
    "        self.map = np.array(self.map)\n",
    "        pass\n",
    "    \n",
    "    def train(self, inputs, iteration_count):\n",
    "        for t in range(1, iteration_count + 1):\n",
    "            for input in inputs:\n",
    "                x, y, _ = self.get_winner(input)\n",
    "\n",
    "                for i in range(self.map_size[0]):\n",
    "                    for j in range(self.map_size[1]):\n",
    "                        neighbor_number = max(abs(x - i), abs(y - j)) + 1\n",
    "                        distance_between_neuron_indexes = self.__euclidean_distance([x, y], [i, j])\n",
    "                        \n",
    "                        self.map[i][j] += self.__gaussian_neighborhood_func(distance_between_neuron_indexes, t, iteration_count, neighbor_number) * (input - self.map[i][j])\n",
    "              \n",
    "    def train_alternative(self, inputs, iteration_count):\n",
    "        for t in range(1, iteration_count + 1):\n",
    "            input = inputs[random.randrange(0, len(inputs))]\n",
    "            x, y, _ = self.get_winner(input)\n",
    "            \n",
    "            for i in range(self.map_size[0]):\n",
    "                for j in range(self.map_size[1]):\n",
    "                    neighbor_number = max(abs(x - i), abs(y - j)) + 1\n",
    "                    distance_between_neuron_indexes = self.__euclidean_distance([x, y], [i, j])\n",
    "                    \n",
    "                    self.map[i][j] += self.__gaussian_neighborhood_func(distance_between_neuron_indexes, t, iteration_count, neighbor_number) * (input - self.map[i][j])\n",
    "\n",
    "    def get_mapped_inputs(self, inputs, classes):\n",
    "        mapped_inputs = [[ [] for _ in range(self.map_size[1])] for _ in range(self.map_size[0])]\n",
    "\n",
    "        for input, clss in zip(inputs, classes): \n",
    "            x, y, _ = self.get_winner(input)\n",
    "            mapped_inputs[x][y].append(clss)\n",
    "\n",
    "        return mapped_inputs\n",
    "       \n",
    "    def get_quantization_error(self, inputs):\n",
    "        distances_sum = 0\n",
    "        \n",
    "        for input in inputs: \n",
    "            _, _, distance = self.get_winner(input)\n",
    "            distances_sum += distance\n",
    "\n",
    "        return distances_sum / len(inputs)\n",
    "        \n",
    "    def __euclidean_distance(self, x, y):\n",
    "        entries_sum = 0\n",
    "        for x_i, y_i in zip(x, y):\n",
    "            entries_sum += (x_i - y_i)**2\n",
    "        \n",
    "        return math.sqrt(entries_sum)\n",
    "    \n",
    "    def get_winner(self, input):\n",
    "        winner_info = (0, 0, self.__euclidean_distance(self.map[0][0], input))\n",
    "        \n",
    "        for i in range(self.map_size[0]):\n",
    "            for j in range(self.map_size[1]):\n",
    "                distance = self.__euclidean_distance(self.map[i][j], input)\n",
    "                winner_info = (i, j, distance) if distance < winner_info[2] else winner_info\n",
    "        \n",
    "        return winner_info\n",
    "    \n",
    "    def __gaussian_neighborhood_func(self, distance, iteration, iteration_count, neighbor_number ):\n",
    "        return self.__learning_function(iteration, iteration_count) * math.exp( (-distance ** 2) / (2 * (neighbor_number ** 2)))\n",
    "          \n",
    "    def __learning_function(self, iteration, iteration_count):\n",
    "        return 1 - (iteration / iteration_count) "
   ]
  },
  {
   "cell_type": "code",
   "execution_count": 164,
   "metadata": {},
   "outputs": [],
   "source": [
    "inputs = np.loadtxt(\"iris.data\", delimiter=\",\", usecols=range(0,4))\n",
    "classes = np.loadtxt(\"iris.data\", delimiter=\",\", usecols=range(4,5), dtype=np.unicode_)\n",
    "\n",
    "#zipped = list(zip(inputs, classes))\n",
    "#np.random.shuffle(zipped)\n",
    "#inputs, classes = zip(*zipped)\n"
   ]
  },
  {
   "cell_type": "code",
   "execution_count": 165,
   "metadata": {},
   "outputs": [
    {
     "name": "stdout",
     "output_type": "stream",
     "text": [
      "Quantization error: 2.2271434414825877\n"
     ]
    }
   ],
   "source": [
    "som = SOM((10, 10), len(inputs[0]))\n",
    "som.train(inputs, 1000)\n",
    "\n",
    "mapped_inputs = som.get_mapped_inputs(inputs, classes)\n",
    "print(\"Quantization error:\", som.get_quantization_error(inputs))\n"
   ]
  },
  {
   "cell_type": "code",
   "execution_count": 166,
   "metadata": {},
   "outputs": [
    {
     "data": {
      "text/html": [
       "<div>\n",
       "<style scoped>\n",
       "    .dataframe tbody tr th:only-of-type {\n",
       "        vertical-align: middle;\n",
       "    }\n",
       "\n",
       "    .dataframe tbody tr th {\n",
       "        vertical-align: top;\n",
       "    }\n",
       "\n",
       "    .dataframe thead th {\n",
       "        text-align: right;\n",
       "    }\n",
       "</style>\n",
       "<table border=\"1\" class=\"dataframe\">\n",
       "  <thead>\n",
       "    <tr style=\"text-align: right;\">\n",
       "      <th></th>\n",
       "      <th>0</th>\n",
       "      <th>1</th>\n",
       "      <th>2</th>\n",
       "      <th>3</th>\n",
       "      <th>4</th>\n",
       "    </tr>\n",
       "  </thead>\n",
       "  <tbody>\n",
       "    <tr>\n",
       "      <th>0</th>\n",
       "      <td>Iris-virginica</td>\n",
       "      <td></td>\n",
       "      <td></td>\n",
       "      <td></td>\n",
       "      <td>Iris-versicolor, Iris-virginica</td>\n",
       "    </tr>\n",
       "    <tr>\n",
       "      <th>1</th>\n",
       "      <td></td>\n",
       "      <td></td>\n",
       "      <td></td>\n",
       "      <td></td>\n",
       "      <td>Iris-setosa, Iris-versicolor, Iris-virginica</td>\n",
       "    </tr>\n",
       "    <tr>\n",
       "      <th>2</th>\n",
       "      <td></td>\n",
       "      <td></td>\n",
       "      <td></td>\n",
       "      <td>Iris-virginica</td>\n",
       "      <td></td>\n",
       "    </tr>\n",
       "    <tr>\n",
       "      <th>3</th>\n",
       "      <td></td>\n",
       "      <td>Iris-virginica</td>\n",
       "      <td></td>\n",
       "      <td></td>\n",
       "      <td></td>\n",
       "    </tr>\n",
       "    <tr>\n",
       "      <th>4</th>\n",
       "      <td>Iris-virginica</td>\n",
       "      <td>Iris-virginica</td>\n",
       "      <td>Iris-virginica</td>\n",
       "      <td></td>\n",
       "      <td></td>\n",
       "    </tr>\n",
       "  </tbody>\n",
       "</table>\n",
       "</div>"
      ],
      "text/plain": [
       "                0               1               2               3  \\\n",
       "0  Iris-virginica                                                   \n",
       "1                                                                   \n",
       "2                                                  Iris-virginica   \n",
       "3                  Iris-virginica                                   \n",
       "4  Iris-virginica  Iris-virginica  Iris-virginica                   \n",
       "\n",
       "                                              4  \n",
       "0               Iris-versicolor, Iris-virginica  \n",
       "1  Iris-setosa, Iris-versicolor, Iris-virginica  \n",
       "2                                                \n",
       "3                                                \n",
       "4                                                "
      ]
     },
     "execution_count": 166,
     "metadata": {},
     "output_type": "execute_result"
    }
   ],
   "source": [
    "for i in range(len(mapped_inputs)):\n",
    "    for j in range(len(mapped_inputs[0])):\n",
    "        unique_classes = np.unique(mapped_inputs[i][j])\n",
    "        mapped_inputs[i][j] = \", \".join(unique_classes) \n",
    "    \n",
    "pandas.DataFrame(mapped_inputs)"
   ]
  }
 ],
 "metadata": {
  "kernelspec": {
   "display_name": "Python 3 (ipykernel)",
   "language": "python",
   "name": "python3"
  },
  "language_info": {
   "codemirror_mode": {
    "name": "ipython",
    "version": 3
   },
   "file_extension": ".py",
   "mimetype": "text/x-python",
   "name": "python",
   "nbconvert_exporter": "python",
   "pygments_lexer": "ipython3",
   "version": "3.9.16"
  }
 },
 "nbformat": 4,
 "nbformat_minor": 4
}
